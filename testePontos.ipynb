{
 "cells": [
  {
   "cell_type": "code",
   "execution_count": 1,
   "metadata": {},
   "outputs": [
    {
     "name": "stdout",
     "output_type": "stream",
     "text": [
      "51.419840528729765\n"
     ]
    }
   ],
   "source": [
    "from shapely.geometry import Point,LineString,Polygon\n",
    "\n",
    "ponto1 = Point(5,10)\n",
    "ponto2 = Point(17,60)\n",
    "print(ponto1.distance(ponto2))"
   ]
  },
  {
   "cell_type": "code",
   "execution_count": 3,
   "metadata": {},
   "outputs": [],
   "source": [
    "ponto3 = Point(44,2)\n",
    "\n",
    "linha = LineString([ponto1,ponto2,ponto3])"
   ]
  },
  {
   "cell_type": "code",
   "execution_count": 4,
   "metadata": {},
   "outputs": [
    {
     "data": {
      "image/svg+xml": "<svg xmlns=\"http://www.w3.org/2000/svg\" xmlns:xlink=\"http://www.w3.org/1999/xlink\" width=\"100.0\" height=\"100.0\" viewBox=\"2.68 -0.31999999999999984 43.64 62.64\" preserveAspectRatio=\"xMinYMin meet\"><g transform=\"matrix(1,0,0,-1,0,62.0)\"><polyline fill=\"none\" stroke=\"#66cc99\" stroke-width=\"1.2528\" points=\"5.0,10.0 17.0,60.0 44.0,2.0\" opacity=\"0.8\" /></g></svg>",
      "text/plain": [
       "<LINESTRING (5 10, 17 60, 44 2)>"
      ]
     },
     "execution_count": 4,
     "metadata": {},
     "output_type": "execute_result"
    }
   ],
   "source": [
    "linha"
   ]
  },
  {
   "cell_type": "code",
   "execution_count": 6,
   "metadata": {},
   "outputs": [
    {
     "data": {
      "text/plain": [
       "[(5.0, 10.0), (17.0, 60.0), (44.0, 2.0)]"
      ]
     },
     "execution_count": 6,
     "metadata": {},
     "output_type": "execute_result"
    }
   ],
   "source": [
    "list(linha.coords)"
   ]
  },
  {
   "cell_type": "code",
   "execution_count": 12,
   "metadata": {},
   "outputs": [],
   "source": [
    "poly = Polygon([(2,11),(9,20),(15,40),(22,33)])"
   ]
  },
  {
   "cell_type": "code",
   "execution_count": 13,
   "metadata": {},
   "outputs": [
    {
     "data": {
      "image/svg+xml": "<svg xmlns=\"http://www.w3.org/2000/svg\" xmlns:xlink=\"http://www.w3.org/1999/xlink\" width=\"100.0\" height=\"100.0\" viewBox=\"0.8400000000000001 9.84 22.32 31.319999999999997\" preserveAspectRatio=\"xMinYMin meet\"><g transform=\"matrix(1,0,0,-1,0,51.0)\"><path fill-rule=\"evenodd\" fill=\"#66cc99\" stroke=\"#555555\" stroke-width=\"0.6264\" opacity=\"0.6\" d=\"M 2.0,11.0 L 9.0,20.0 L 15.0,40.0 L 22.0,33.0 L 2.0,11.0 z\" /></g></svg>",
      "text/plain": [
       "<POLYGON ((2 11, 9 20, 15 40, 22 33, 2 11))>"
      ]
     },
     "execution_count": 13,
     "metadata": {},
     "output_type": "execute_result"
    }
   ],
   "source": [
    "poly"
   ]
  }
 ],
 "metadata": {
  "kernelspec": {
   "display_name": "Python 3",
   "language": "python",
   "name": "python3"
  },
  "language_info": {
   "codemirror_mode": {
    "name": "ipython",
    "version": 3
   },
   "file_extension": ".py",
   "mimetype": "text/x-python",
   "name": "python",
   "nbconvert_exporter": "python",
   "pygments_lexer": "ipython3",
   "version": "3.10.8"
  },
  "orig_nbformat": 4,
  "vscode": {
   "interpreter": {
    "hash": "a7c5ee3e19682e53a75dcb03c8cbe5d8c2517ea1fd34a30ee3256a40e8a3860b"
   }
  }
 },
 "nbformat": 4,
 "nbformat_minor": 2
}
